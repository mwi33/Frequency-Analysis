{
 "cells": [
  {
   "cell_type": "code",
   "execution_count": 229,
   "metadata": {},
   "outputs": [],
   "source": [
    "import numpy as np\n",
    "import matplotlib.pyplot as plt"
   ]
  },
  {
   "cell_type": "code",
   "execution_count": 230,
   "metadata": {},
   "outputs": [
    {
     "data": {
      "text/plain": [
       "'\\nUnicode (UTF-8) table\\n\\nCapital Letters A-Z = Range 64 (0x41) - 90 (0x5a)\\nLower Case Letters a-z = Range 97 (0x61) - 122 (0x7a)\\n\\n'"
      ]
     },
     "execution_count": 230,
     "metadata": {},
     "output_type": "execute_result"
    }
   ],
   "source": [
    "\"\"\"\n",
    "Unicode (UTF-8) table\n",
    "\n",
    "Capital Letters A-Z = Range 64 (0x41) - 90 (0x5a)\n",
    "Lower Case Letters a-z = Range 97 (0x61) - 122 (0x7a)\n",
    "\n",
    "\"\"\""
   ]
  },
  {
   "cell_type": "code",
   "execution_count": 231,
   "metadata": {},
   "outputs": [],
   "source": [
    "test_text = \"Lorem Ipsum is simply dummy text of the printing and typesetting industry. Lorem Ipsum has been the industry's standard dummy text ever since the 1500s, when an unknown printer took a galley of type and scrambled it to make a type specimen book. It has survived not only five centuries, but also the leap into electronic typesetting, remaining essentially unchanged. It was popularised in the 1960s with the release of Letraset sheets containing Lorem Ipsum passages, and more recently with desktop publishing software like Aldus PageMaker including versions of Lorem Ipsum.\"\n",
    "\n",
    "known_text = \"AAAaaaabbBBBBBB\""
   ]
  },
  {
   "cell_type": "code",
   "execution_count": 232,
   "metadata": {},
   "outputs": [
    {
     "name": "stdout",
     "output_type": "stream",
     "text": [
      "{'A': 1, 'B': 0, 'C': 0, 'D': 0, 'E': 0, 'F': 0, 'G': 0, 'H': 0, 'I': 6, 'J': 0, 'K': 0, 'L': 5, 'M': 1, 'N': 0, 'O': 0, 'P': 1, 'Q': 0, 'R': 0, 'S': 0, 'T': 0, 'U': 0, 'V': 0, 'W': 0, 'X': 0, 'Y': 0, 'Z': 0}\n",
      "{'a': 28, 'b': 5, 'c': 10, 'd': 16, 'e': 59, 'f': 6, 'g': 11, 'h': 14, 'i': 32, 'j': 0, 'k': 7, 'l': 17, 'm': 18, 'n': 38, 'o': 25, 'p': 18, 'q': 0, 'r': 24, 's': 39, 't': 43, 'u': 17, 'v': 5, 'w': 6, 'x': 2, 'y': 13, 'z': 0}\n",
      "{'a': 29, 'b': 5, 'c': 10, 'd': 16, 'e': 59, 'f': 6, 'g': 11, 'h': 14, 'i': 38, 'j': 0, 'k': 7, 'l': 22, 'm': 19, 'n': 38, 'o': 25, 'p': 19, 'q': 0, 'r': 24, 's': 39, 't': 43, 'u': 17, 'v': 5, 'w': 6, 'x': 2, 'y': 13, 'z': 0}\n",
      "467\n"
     ]
    }
   ],
   "source": [
    "\"\"\"\n",
    "Calcuate the number of lower case, upper case and combined occurances of each letter of the alphabet.\n",
    "\n",
    "Create three dictionaries (upper, lower and combined), representing uppercase, lowercase and combined counts for each letter of the alphabet.\n",
    "\n",
    "\"\"\"\n",
    "upper = {}\n",
    "lower = {}\n",
    "combined = {}\n",
    "\n",
    "for character in range(65, 91):\n",
    "\n",
    "    upper.update({chr(character):test_text.count(chr(character))})\n",
    "    lower.update({chr(character).lower():test_text.count(chr(character).lower())})\n",
    "\n",
    "    combined.update({chr(character).lower(): test_text.count(chr(character)) + test_text.count(chr(character).lower())})\n",
    "\n",
    "print(upper)\n",
    "print(lower)\n",
    "print(combined)\n",
    "\n",
    "character_values = combined.values()\n",
    "\n",
    "total_count = sum(character_values)\n",
    "\n",
    "print(total_count)\n",
    "\n"
   ]
  },
  {
   "cell_type": "code",
   "execution_count": 233,
   "metadata": {},
   "outputs": [
    {
     "name": "stdout",
     "output_type": "stream",
     "text": [
      "{'a': 6.2099, 'b': 1.0707, 'c': 2.1413, 'd': 3.4261, 'e': 12.6338, 'f': 1.2848, 'g': 2.3555, 'h': 2.9979, 'i': 8.137, 'j': 0.0, 'k': 1.4989, 'l': 4.7109, 'm': 4.0685, 'n': 8.137, 'o': 5.3533, 'p': 4.0685, 'q': 0.0, 'r': 5.1392, 's': 8.3512, 't': 9.2077, 'u': 3.6403, 'v': 1.0707, 'w': 1.2848, 'x': 0.4283, 'y': 2.7837, 'z': 0.0}\n"
     ]
    }
   ],
   "source": [
    "\"\"\"\n",
    "Calculate percentages\n",
    "\n",
    "(count for each letter / total number of letters) * 100\n",
    "\n",
    "\"\"\"\n",
    "\n",
    "percentages = {}\n",
    "\n",
    "for key, value in combined.items():\n",
    "\n",
    "    percentages.update({key: round((value/total_count)*100, 4)})\n",
    "\n",
    "print(percentages)\n"
   ]
  },
  {
   "cell_type": "code",
   "execution_count": 234,
   "metadata": {},
   "outputs": [
    {
     "name": "stdout",
     "output_type": "stream",
     "text": [
      "['a', 'b', 'c', 'd', 'e', 'f', 'g', 'h', 'i', 'j', 'k', 'l', 'm', 'n', 'o', 'p', 'q', 'r', 's', 't', 'u', 'v', 'w', 'x', 'y', 'z']\n",
      "[6.2099, 1.0707, 2.1413, 3.4261, 12.6338, 1.2848, 2.3555, 2.9979, 8.137, 0.0, 1.4989, 4.7109, 4.0685, 8.137, 5.3533, 4.0685, 0.0, 5.1392, 8.3512, 9.2077, 3.6403, 1.0707, 1.2848, 0.4283, 2.7837, 0.0]\n"
     ]
    },
    {
     "data": {
      "image/png": "[encoded data removed]",
      "text/plain": [
       "<Figure size 432x288 with 1 Axes>"
      ]
     },
     "metadata": {
      "needs_background": "light"
     },
     "output_type": "display_data"
    }
   ],
   "source": [
    "\"\"\"\n",
    "\n",
    "Plot percentages for each letter using numpy and matplotlib.pyplt\n",
    "\n",
    "\"\"\"\n",
    "x_axis = []\n",
    "y_axis = []\n",
    "\n",
    "for character, percentage in percentages.items():\n",
    "    x_axis.append(character)\n",
    "    y_axis.append(percentage)\n",
    "\n",
    "print(x_axis)\n",
    "print(y_axis)\n",
    "\n",
    "plt.bar(x_axis, y_axis)\n",
    "plt.show()\n"
   ]
  }
 ],
 "metadata": {
  "interpreter": {
   "hash": "97cc609b13305c559618ec78a438abc56230b9381f827f22d070313b9a1f3777"
  },
  "kernelspec": {
   "display_name": "Python 3.10.4 64-bit",
   "language": "python",
   "name": "python3"
  },
  "language_info": {
   "codemirror_mode": {
    "name": "ipython",
    "version": 3
   },
   "file_extension": ".py",
   "mimetype": "text/x-python",
   "name": "python",
   "nbconvert_exporter": "python",
   "pygments_lexer": "ipython3",
   "version": "3.10.4"
  },
  "orig_nbformat": 4
 },
 "nbformat": 4,
 "nbformat_minor": 2
}
